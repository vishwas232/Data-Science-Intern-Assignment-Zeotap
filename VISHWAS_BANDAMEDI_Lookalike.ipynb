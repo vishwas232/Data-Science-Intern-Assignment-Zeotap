{
 "cells": [
  {
   "cell_type": "code",
   "execution_count": 30,
   "id": "fe207b49-f574-40b1-ae89-08264cfbb739",
   "metadata": {},
   "outputs": [],
   "source": [
    "import pandas as pd\n",
    "from sklearn.metrics.pairwise import cosine_similarity\n",
    "from sklearn.preprocessing import StandardScaler\n",
    "\n",
    "##import libs\n"
   ]
  },
  {
   "cell_type": "code",
   "execution_count": 38,
   "id": "0e4212c9-eab7-41cc-8275-ac4823043b1d",
   "metadata": {},
   "outputs": [],
   "source": [
    "#import csv files\n",
    "raw = pd.read_csv('Customers.csv')\n",
    "pro = pd.read_csv('Products.csv')\n",
    "tran= pd.read_csv('Transactions.csv')"
   ]
  },
  {
   "cell_type": "code",
   "execution_count": 40,
   "id": "5f2f75cd-818b-4ee2-b58c-c82aefe626b5",
   "metadata": {},
   "outputs": [],
   "source": [
    "#mergeing data\n",
    "transactions_with_pro = pd.merge(tran, pro, on='ProductID', how='left')\n",
    "customer_data = pd.merge(transactions_with_pro, customers, on='CustomerID', how='left')"
   ]
  },
  {
   "cell_type": "code",
   "execution_count": 42,
   "id": "e976c9fe-4909-4e4d-bb69-55bc75c67f0a",
   "metadata": {},
   "outputs": [],
   "source": [
    "profile = customer_data.groupby('CustomerID').agg(\n",
    "    total_spend=('TotalValue', 'sum'),\n",
    "    transaction_count=('TransactionID', 'count'),\n",
    "    avg_transaction_value=('TotalValue', 'mean'),\n",
    "    total_quantity=('Quantity', 'sum')\n",
    ").reset_index()"
   ]
  },
  {
   "cell_type": "code",
   "execution_count": 44,
   "id": "2d84445c-4821-4345-82b6-e78ca12d515b",
   "metadata": {},
   "outputs": [],
   "source": [
    "category_frequency = customer_data.groupby(['CustomerID', 'Category']).agg(\n",
    "    product_frequency=('ProductID', 'count')\n",
    ").reset_index()"
   ]
  },
  {
   "cell_type": "code",
   "execution_count": 46,
   "id": "a7847e5d-93eb-4bc8-9040-166731e8ee51",
   "metadata": {},
   "outputs": [],
   "source": [
    "category_matrix = category_frequency.pivot_table(index='CustomerID', columns='Category', values='product_frequency', fill_value=0)"
   ]
  },
  {
   "cell_type": "code",
   "execution_count": 48,
   "id": "7d2676ae-becc-4fd8-aa83-e947e71dd12a",
   "metadata": {},
   "outputs": [],
   "source": [
    "customer_features = pd.merge(customer_profile, category_matrix, on='CustomerID', how='left')"
   ]
  },
  {
   "cell_type": "code",
   "execution_count": 50,
   "id": "ceded176-60a0-4963-b12b-17d91782c0a3",
   "metadata": {},
   "outputs": [],
   "source": [
    "\n",
    "scaler = StandardScaler()\n",
    "normalized_features = scaler.fit_transform(customer_features.drop('CustomerID', axis=1))"
   ]
  },
  {
   "cell_type": "code",
   "execution_count": 52,
   "id": "5aaf1e0e-a338-4c75-a7bc-79e204c01c24",
   "metadata": {},
   "outputs": [],
   "source": [
    "similarity_matrix = cosine_similarity(normalized_features)"
   ]
  },
  {
   "cell_type": "code",
   "execution_count": 54,
   "id": "e3be3da4-6651-4ff2-9f02-4b0168697e86",
   "metadata": {},
   "outputs": [],
   "source": [
    "lookalike_results = {}\n",
    "\n",
    "\n",
    "for idx, customer_id in enumerate(customer_features['CustomerID'].iloc[:20]):\n",
    "    similarity_scores = similarity_matrix[idx]\n",
    "    \n",
    "    # Exclude the customer itself (it will have the highest similarity score)\n",
    "    sorted_indices = similarity_scores.argsort()[-4:-1] \n",
    "    \n",
    "    # Store the lookalikes and their similarity scores\n",
    "    lookalike_results[customer_id] = [(customer_features['CustomerID'].iloc[i], similarity_scores[i]) for i in sorted_indices]\n",
    "\n",
    "# Convert the results to a DataFrame\n",
    "lookalike_df = pd.DataFrame(\n",
    "    [(customer_id, val[0][0], val[0][1], val[1][0], val[1][1], val[2][0], val[2][1]) for customer_id, val in lookalike_results.items()],\n",
    "    columns=['CustomerID', 'Customer1', 'Score1', 'Customer2', 'Score2', 'Customer3', 'Score3']\n",
    ")\n",
    "\n",
    "\n"
   ]
  },
  {
   "cell_type": "code",
   "execution_count": null,
   "id": "d8d47e82-5901-4d34-ba7f-f0fbcdd9b05a",
   "metadata": {},
   "outputs": [],
   "source": [
    "lookalike_df.to_csv('Lookalike.csv', index=False)"
   ]
  }
 ],
 "metadata": {
  "kernelspec": {
   "display_name": "Python 3",
   "language": "python",
   "name": "python3"
  },
  "language_info": {
   "codemirror_mode": {
    "name": "ipython",
    "version": 3
   },
   "file_extension": ".py",
   "mimetype": "text/x-python",
   "name": "python",
   "nbconvert_exporter": "python",
   "pygments_lexer": "ipython3",
   "version": "3.12.4"
  }
 },
 "nbformat": 4,
 "nbformat_minor": 5
}
